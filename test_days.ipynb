{
 "cells": [
  {
   "cell_type": "code",
   "execution_count": 2,
   "outputs": [],
   "source": [
    "import pandas as pd\n",
    "import numpy as np\n"
   ],
   "metadata": {
    "collapsed": false,
    "pycharm": {
     "name": "#%%\n",
     "is_executing": false
    }
   }
  },
  {
   "cell_type": "code",
   "execution_count": 3,
   "outputs": [],
   "source": [
    "MONTHS_GEN = {\n",
    "    1: \"января\",\n",
    "    2: \"февраля\",\n",
    "    3: \"марта\",\n",
    "    4: \"апреля\",\n",
    "    5: \"мая\",\n",
    "    6: \"июня\",\n",
    "    7: \"июля\",\n",
    "    8: \"августа\",\n",
    "    9: \"сентября\",\n",
    "    10: \"октября\",\n",
    "    11: \"ноября\",\n",
    "    12: \"декабря\"\n",
    "}"
   ],
   "metadata": {
    "collapsed": false,
    "pycharm": {
     "name": "#%%\n",
     "is_executing": false
    }
   }
  },
  {
   "cell_type": "code",
   "execution_count": 11,
   "outputs": [],
   "source": [
    "data = pd.read_csv('weather_data.csv', sep=',').drop(['text'], axis='columns')"
   ],
   "metadata": {
    "collapsed": false,
    "pycharm": {
     "name": "#%%\n",
     "is_executing": false
    }
   }
  },
  {
   "cell_type": "code",
   "execution_count": 31,
   "outputs": [
    {
     "data": {
      "text/plain": "(11875, 120)"
     },
     "metadata": {},
     "output_type": "execute_result",
     "execution_count": 31
    }
   ],
   "source": [
    "data.head()"
   ],
   "metadata": {
    "collapsed": false,
    "pycharm": {
     "name": "#%%\n",
     "is_executing": false
    }
   }
  },
  {
   "cell_type": "code",
   "execution_count": 13,
   "outputs": [],
   "source": [
    "month_list = list(MONTHS_GEN.values())\n",
    "month_list.append('month')\n"
   ],
   "metadata": {
    "collapsed": false,
    "pycharm": {
     "name": "#%%\n",
     "is_executing": false
    }
   }
  },
  {
   "cell_type": "code",
   "execution_count": 14,
   "outputs": [],
   "source": [
    "data = data.drop(month_list, axis='columns')\n",
    "data_start = data.drop(['day_end'], axis='columns')"
   ],
   "metadata": {
    "collapsed": false,
    "pycharm": {
     "name": "#%%\n",
     "is_executing": false
    }
   }
  },
  {
   "cell_type": "code",
   "execution_count": 15,
   "outputs": [
    {
     "data": {
      "text/plain": "   21-22  8-10  8-9  23-27  16-20  26-29  08-09  9  20-25  10-12  ...  27  \\\n0      0     0    0      0      0      0      0  1      0      0  ...   0   \n1      0     0    0      0      0      0      0  0      0      0  ...   0   \n2      0     0    0      0      0      0      0  1      0      0  ...   0   \n3      0     0    0      0      0      0      0  0      0      0  ...   0   \n4      0     0    0      0      0      0      0  1      0      0  ...   0   \n\n   11-13  14-16  15-17  3-4  26-28  22-24  25  12-14  day_start  \n0      0      0      0    0      0      0   0      0          9  \n1      0      0      0    0      0      0   0      0         10  \n2      0      0      0    0      0      0   0      0          9  \n3      0      0      0    0      0      0   0      0          8  \n4      0      0      0    0      0      0   0      0          9  \n\n[5 rows x 119 columns]",
      "text/html": "<div>\n<style scoped>\n    .dataframe tbody tr th:only-of-type {\n        vertical-align: middle;\n    }\n\n    .dataframe tbody tr th {\n        vertical-align: top;\n    }\n\n    .dataframe thead th {\n        text-align: right;\n    }\n</style>\n<table border=\"1\" class=\"dataframe\">\n  <thead>\n    <tr style=\"text-align: right;\">\n      <th></th>\n      <th>21-22</th>\n      <th>8-10</th>\n      <th>8-9</th>\n      <th>23-27</th>\n      <th>16-20</th>\n      <th>26-29</th>\n      <th>08-09</th>\n      <th>9</th>\n      <th>20-25</th>\n      <th>10-12</th>\n      <th>...</th>\n      <th>27</th>\n      <th>11-13</th>\n      <th>14-16</th>\n      <th>15-17</th>\n      <th>3-4</th>\n      <th>26-28</th>\n      <th>22-24</th>\n      <th>25</th>\n      <th>12-14</th>\n      <th>day_start</th>\n    </tr>\n  </thead>\n  <tbody>\n    <tr>\n      <th>0</th>\n      <td>0</td>\n      <td>0</td>\n      <td>0</td>\n      <td>0</td>\n      <td>0</td>\n      <td>0</td>\n      <td>0</td>\n      <td>1</td>\n      <td>0</td>\n      <td>0</td>\n      <td>...</td>\n      <td>0</td>\n      <td>0</td>\n      <td>0</td>\n      <td>0</td>\n      <td>0</td>\n      <td>0</td>\n      <td>0</td>\n      <td>0</td>\n      <td>0</td>\n      <td>9</td>\n    </tr>\n    <tr>\n      <th>1</th>\n      <td>0</td>\n      <td>0</td>\n      <td>0</td>\n      <td>0</td>\n      <td>0</td>\n      <td>0</td>\n      <td>0</td>\n      <td>0</td>\n      <td>0</td>\n      <td>0</td>\n      <td>...</td>\n      <td>0</td>\n      <td>0</td>\n      <td>0</td>\n      <td>0</td>\n      <td>0</td>\n      <td>0</td>\n      <td>0</td>\n      <td>0</td>\n      <td>0</td>\n      <td>10</td>\n    </tr>\n    <tr>\n      <th>2</th>\n      <td>0</td>\n      <td>0</td>\n      <td>0</td>\n      <td>0</td>\n      <td>0</td>\n      <td>0</td>\n      <td>0</td>\n      <td>1</td>\n      <td>0</td>\n      <td>0</td>\n      <td>...</td>\n      <td>0</td>\n      <td>0</td>\n      <td>0</td>\n      <td>0</td>\n      <td>0</td>\n      <td>0</td>\n      <td>0</td>\n      <td>0</td>\n      <td>0</td>\n      <td>9</td>\n    </tr>\n    <tr>\n      <th>3</th>\n      <td>0</td>\n      <td>0</td>\n      <td>0</td>\n      <td>0</td>\n      <td>0</td>\n      <td>0</td>\n      <td>0</td>\n      <td>0</td>\n      <td>0</td>\n      <td>0</td>\n      <td>...</td>\n      <td>0</td>\n      <td>0</td>\n      <td>0</td>\n      <td>0</td>\n      <td>0</td>\n      <td>0</td>\n      <td>0</td>\n      <td>0</td>\n      <td>0</td>\n      <td>8</td>\n    </tr>\n    <tr>\n      <th>4</th>\n      <td>0</td>\n      <td>0</td>\n      <td>0</td>\n      <td>0</td>\n      <td>0</td>\n      <td>0</td>\n      <td>0</td>\n      <td>1</td>\n      <td>0</td>\n      <td>0</td>\n      <td>...</td>\n      <td>0</td>\n      <td>0</td>\n      <td>0</td>\n      <td>0</td>\n      <td>0</td>\n      <td>0</td>\n      <td>0</td>\n      <td>0</td>\n      <td>0</td>\n      <td>9</td>\n    </tr>\n  </tbody>\n</table>\n<p>5 rows × 119 columns</p>\n</div>"
     },
     "metadata": {},
     "output_type": "execute_result",
     "execution_count": 15
    }
   ],
   "source": [
    "data_start.head()"
   ],
   "metadata": {
    "collapsed": false,
    "pycharm": {
     "name": "#%%\n",
     "is_executing": false
    }
   }
  },
  {
   "cell_type": "code",
   "execution_count": 33,
   "outputs": [],
   "source": [
    "data_start = data_start.drop(data_start[data_start['day_start'] > 31].index)\n",
    "data_start = data_start.drop(data_start[data_start['day_start'] < 1].index)"
   ],
   "metadata": {
    "collapsed": false,
    "pycharm": {
     "name": "#%%\n",
     "is_executing": false
    }
   }
  },
  {
   "cell_type": "code",
   "execution_count": null,
   "outputs": [],
   "source": [
    "\n"
   ],
   "metadata": {
    "collapsed": false,
    "pycharm": {
     "name": "#%%\n"
    }
   }
  },
  {
   "cell_type": "code",
   "execution_count": 42,
   "outputs": [],
   "source": [
    "\n",
    "start_x= data_start.drop('day_start', axis=1)\n",
    "start_y = data_start['day_start'].astype('int')\n"
   ],
   "metadata": {
    "collapsed": false,
    "pycharm": {
     "name": "#%%\n",
     "is_executing": false
    }
   }
  },
  {
   "cell_type": "code",
   "execution_count": 43,
   "outputs": [
    {
     "data": {
      "text/plain": "((11727, 118), (11727,))"
     },
     "metadata": {},
     "output_type": "execute_result",
     "execution_count": 43
    }
   ],
   "source": [
    "start_x.shape, start_y.shape"
   ],
   "metadata": {
    "collapsed": false,
    "pycharm": {
     "name": "#%%\n",
     "is_executing": false
    }
   }
  },
  {
   "cell_type": "code",
   "execution_count": 44,
   "outputs": [
    {
     "data": {
      "text/plain": "0     9\n1    10\n2     9\n3     8\n4     9\nName: day_start, dtype: int32"
     },
     "metadata": {},
     "output_type": "execute_result",
     "execution_count": 44
    }
   ],
   "source": [
    "start_y.head()"
   ],
   "metadata": {
    "collapsed": false,
    "pycharm": {
     "name": "#%%\n",
     "is_executing": false
    }
   }
  },
  {
   "cell_type": "code",
   "execution_count": 45,
   "outputs": [
    {
     "data": {
      "text/plain": "count    11727.000000\nmean        15.392428\nstd          8.830100\nmin          1.000000\n25%          8.000000\n50%         15.000000\n75%         23.000000\nmax         31.000000\nName: day_start, dtype: float64"
     },
     "metadata": {},
     "output_type": "execute_result",
     "execution_count": 45
    }
   ],
   "source": [
    "start_y.describe()"
   ],
   "metadata": {
    "collapsed": false,
    "pycharm": {
     "name": "#%%\n",
     "is_executing": false
    }
   }
  },
  {
   "cell_type": "code",
   "execution_count": 49,
   "outputs": [],
   "source": [
    "from sklearn.tree import DecisionTreeClassifier\n",
    "first_tree = DecisionTreeClassifier(random_state=17)"
   ],
   "metadata": {
    "collapsed": false,
    "pycharm": {
     "name": "#%%\n",
     "is_executing": false
    }
   }
  },
  {
   "cell_type": "code",
   "execution_count": 51,
   "outputs": [],
   "source": [
    "from sklearn.model_selection import train_test_split\n",
    "start_x_train, start_x_valid, start_y_train, start_y_valid = train_test_split(start_x, start_y, \n",
    "                                                      test_size=0.3, \n",
    "                                                      random_state=17)"
   ],
   "metadata": {
    "collapsed": false,
    "pycharm": {
     "name": "#%%\n",
     "is_executing": false
    }
   }
  },
  {
   "cell_type": "code",
   "execution_count": 52,
   "outputs": [
    {
     "data": {
      "text/plain": "((8208, 118), (3519, 118))"
     },
     "metadata": {},
     "output_type": "execute_result",
     "execution_count": 52
    }
   ],
   "source": [
    "start_x_train.shape, start_x_valid.shape"
   ],
   "metadata": {
    "collapsed": false,
    "pycharm": {
     "name": "#%%\n",
     "is_executing": false
    }
   }
  },
  {
   "cell_type": "code",
   "execution_count": 56,
   "outputs": [
    {
     "data": {
      "text/plain": "array([0.8727162 , 0.86723508, 0.86419001, 0.87507617, 0.87446679])"
     },
     "metadata": {},
     "output_type": "execute_result",
     "execution_count": 56
    }
   ],
   "source": [
    "from sklearn.model_selection import  cross_val_score\n",
    "cross_val_score(first_tree, start_x_train, start_y_train, cv=5)"
   ],
   "metadata": {
    "collapsed": false,
    "pycharm": {
     "name": "#%%\n",
     "is_executing": false
    }
   }
  },
  {
   "cell_type": "code",
   "execution_count": 57,
   "outputs": [],
   "source": [
    "from sklearn.neighbors import KNeighborsClassifier"
   ],
   "metadata": {
    "collapsed": false,
    "pycharm": {
     "name": "#%%\n",
     "is_executing": false
    }
   }
  },
  {
   "cell_type": "code",
   "execution_count": 60,
   "outputs": [
    {
     "data": {
      "text/plain": "0.8717110493067045"
     },
     "metadata": {},
     "output_type": "execute_result",
     "execution_count": 60
    }
   ],
   "source": [
    "first_knn = KNeighborsClassifier()\n",
    "np.mean(cross_val_score(first_knn, start_x_train, start_y_train, cv=5))"
   ],
   "metadata": {
    "collapsed": false,
    "pycharm": {
     "name": "#%%\n",
     "is_executing": false
    }
   }
  },
  {
   "cell_type": "code",
   "execution_count": 133,
   "outputs": [
    {
     "name": "stdout",
     "text": [
      "Wall time: 0 ns\n"
     ],
     "output_type": "stream"
    },
    {
     "data": {
      "text/plain": "RandomForestClassifier(max_features='log2', n_estimators=25, random_state=17)"
     },
     "metadata": {},
     "output_type": "execute_result",
     "execution_count": 133
    }
   ],
   "source": [
    "%time\n",
    "from sklearn.ensemble import RandomForestClassifier\n",
    "rf = RandomForestClassifier(\n",
    "    n_estimators=25, random_state=17,\n",
    "    \n",
    "    )\n",
    "rf.fit(start_x_train, start_y_train)"
   ],
   "metadata": {
    "collapsed": false,
    "pycharm": {
     "name": "#%%\n",
     "is_executing": false
    }
   }
  },
  {
   "cell_type": "code",
   "execution_count": 134,
   "outputs": [
    {
     "name": "stdout",
     "text": [
      "Wall time: 0 ns\n"
     ],
     "output_type": "stream"
    }
   ],
   "source": [
    "%time\n",
    "rf_valid_pred = rf.predict(start_x_valid)\n"
   ],
   "metadata": {
    "collapsed": false,
    "pycharm": {
     "name": "#%%\n",
     "is_executing": false
    }
   }
  },
  {
   "cell_type": "code",
   "execution_count": 135,
   "outputs": [
    {
     "data": {
      "text/plain": "0.8815004262574595"
     },
     "metadata": {},
     "output_type": "execute_result",
     "execution_count": 135
    }
   ],
   "source": [
    "from sklearn.metrics import accuracy_score\n",
    "accuracy_score(start_y_valid, rf_valid_pred)"
   ],
   "metadata": {
    "collapsed": false,
    "pycharm": {
     "name": "#%%\n",
     "is_executing": false
    }
   }
  },
  {
   "cell_type": "code",
   "execution_count": 128,
   "outputs": [
    {
     "data": {
      "text/plain": "array([[ 99,   2,   1,   1,   3,   0,   0,   1,   2,   0,   1,   2,   1,\n          2,   3,   1,   2,   1,   2,   3,   1,   3,   1,   2,   4,   2,\n          1,   3,   1,   1,   1],\n       [  1, 107,   2,   4,   0,   1,   1,   1,   0,   6,   0,   4,   1,\n          2,   1,   0,   1,   0,   1,   0,   1,   2,   1,   0,   1,   0,\n          0,   1,   0,   1,   0],\n       [  0,   1,  88,   2,   2,   0,   0,   1,   0,   5,   1,   0,   0,\n          0,   0,   0,   2,   0,   0,   2,   2,   1,   1,   0,   1,   2,\n          1,   0,   2,   0,   0],\n       [  0,   0,   2,  86,   0,   0,   0,   0,   1,   2,   0,   0,   1,\n          1,   1,   1,   0,   0,   1,   2,   0,   1,   0,   0,   0,   0,\n          0,   1,   1,   1,   0],\n       [  1,   1,   1,   2,  99,   0,   0,   0,   0,   2,   1,   3,   0,\n          0,   0,   0,   0,   0,   0,   0,   1,   1,   1,   1,   0,   1,\n          1,   0,   0,   0,   0],\n       [  0,   0,   0,   0,   1, 112,   0,   1,   0,   3,   2,   0,   0,\n          1,   0,   0,   0,   0,   1,   0,   0,   0,   1,   0,   0,   0,\n          0,   0,   0,   0,   0],\n       [  0,   0,   0,   0,   0,   1,  92,   1,   1,   0,   0,   0,   0,\n          0,   3,   0,   1,   0,   0,   0,   0,   0,   0,   0,   0,   0,\n          0,   0,   1,   0,   0],\n       [  2,   0,   1,   0,   3,   0,   0,  94,   0,   2,   1,   0,   0,\n          0,   0,   0,   0,   0,   1,   0,   0,   0,   0,   0,   0,   0,\n          0,   3,   0,   1,   0],\n       [  2,   1,   1,   0,   0,   1,   2,   1, 130,   2,   0,   0,   0,\n          0,   2,   0,   1,   0,   0,   1,   0,   1,   1,   0,   0,   0,\n          0,   1,   0,   0,   0],\n       [  1,   0,   0,   0,   1,   2,   1,   0,   1, 117,   1,   1,   0,\n          0,   0,   1,   2,   2,   0,   1,   0,   1,   0,   0,   0,   0,\n          0,   0,   0,   1,   0],\n       [  1,   1,   0,   0,   0,   0,   1,   0,   2,   2,  96,   0,   0,\n          0,   0,   0,   0,   1,   0,   0,   1,   0,   0,   0,   0,   2,\n          0,   0,   0,   0,   0],\n       [  0,   0,   0,   0,   1,   0,   0,   2,   1,   1,   0,  91,   1,\n          0,   0,   1,   0,   1,   0,   0,   0,   0,   0,   0,   0,   1,\n          0,   0,   1,   0,   0],\n       [  2,   0,   1,   0,   0,   0,   0,   0,   2,   1,   0,   2,  82,\n          2,   0,   1,   0,   1,   1,   0,   1,   0,   0,   0,   0,   0,\n          0,   0,   1,   1,   0],\n       [  1,   0,   1,   0,   1,   0,   0,   0,   1,   2,   0,   0,   4,\n        109,   1,   0,   0,   0,   1,   0,   0,   0,   1,   0,   0,   1,\n          1,   0,   1,   0,   0],\n       [  3,   0,   0,   2,   0,   2,   0,   1,   1,   3,   0,   0,   0,\n          0, 118,   1,   1,   1,   2,   0,   1,   1,   1,   0,   1,   2,\n          0,   1,   0,   0,   3],\n       [  0,   0,   0,   0,   0,   0,   0,   0,   0,   1,   0,   0,   0,\n          1,   2, 106,   0,   0,   0,   0,   0,   0,   0,   0,   0,   0,\n          0,   0,   1,   1,   0],\n       [  0,   0,   0,   1,   0,   0,   2,   0,   0,   0,   0,   0,   1,\n          0,   1,   1,  95,   0,   0,   1,   0,   0,   0,   2,   0,   0,\n          1,   1,   1,   0,   0],\n       [  1,   0,   0,   0,   0,   1,   0,   0,   0,   2,   0,   1,   0,\n          0,   0,   1,   1,  96,   1,   1,   1,   0,   1,   0,   1,   1,\n          1,   0,   0,   0,   0],\n       [  1,   1,   0,   0,   0,   0,   0,   0,   1,   0,   0,   1,   3,\n          0,   1,   1,   0,   1,  96,   0,   0,   0,   0,   1,   0,   0,\n          0,   1,   0,   0,   0],\n       [  0,   4,   0,   0,   0,   0,   0,   1,   0,   3,   0,   0,   2,\n          0,   1,   0,   0,   0,   0, 103,   1,   0,   0,   0,   0,   0,\n          1,   1,   0,   1,   0],\n       [  2,   0,   0,   0,   0,   1,   0,   0,   0,   1,   1,   1,   1,\n          0,   0,   0,   0,   1,   1,   2, 101,   0,   0,   0,   0,   0,\n          0,   1,   0,   0,   0],\n       [  0,   0,   0,   1,   0,   0,   0,   1,   0,   0,   0,   1,   0,\n          0,   0,   0,   0,   0,   1,   0,   1, 108,   0,   0,   1,   1,\n          1,   0,   0,   0,   0],\n       [  0,   0,   0,   1,   0,   0,   0,   0,   2,   1,   0,   0,   0,\n          0,   0,   0,   0,   0,   1,   1,   0,   2, 120,   0,   0,   1,\n          0,   0,   0,   0,   0],\n       [  0,   0,   1,   0,   0,   0,   1,   0,   0,   2,   0,   0,   1,\n          0,   0,   0,   0,   0,   0,   1,   0,   1,   0,  99,   0,   0,\n          0,   0,   0,   0,   0],\n       [  0,   1,   0,   0,   0,   0,   0,   0,   0,   1,   0,   0,   0,\n          0,   0,   0,   0,   0,   0,   1,   0,   0,   1,   0, 105,   0,\n          0,   1,   0,   0,   0],\n       [  0,   0,   0,   0,   0,   0,   1,   0,   0,   0,   0,   1,   0,\n          0,   1,   0,   0,   0,   1,   0,   0,   0,   0,   0,   0, 102,\n          0,   1,   1,   0,   0],\n       [  0,   0,   0,   1,   0,   0,   0,   0,   0,   2,   0,   0,   0,\n          0,   0,   0,   0,   0,   0,   0,   0,   1,   1,   0,   0,   1,\n         92,   0,   0,   0,   0],\n       [  0,   0,   0,   0,   0,   0,   0,   0,   0,   1,   0,   0,   0,\n          0,   0,   0,   0,   0,   0,   0,   0,   0,   0,   0,   0,   0,\n          0,  91,   0,   1,   0],\n       [  1,   0,   0,   0,   0,   0,   0,   0,   0,   1,   0,   0,   0,\n          0,   0,   0,   0,   0,   0,   1,   0,   0,   0,   0,   0,   0,\n          0,   1, 108,   1,   0],\n       [  0,   0,   0,   0,   0,   0,   1,   0,   0,   1,   0,   0,   0,\n          0,   0,   0,   0,   0,   0,   0,   0,   0,   1,   2,   0,   0,\n          0,   0,   1, 103,   0],\n       [  0,   0,   0,   0,   0,   0,   0,   0,   0,   0,   0,   0,   0,\n          0,   0,   0,   1,   0,   0,   0,   0,   0,   0,   0,   0,   0,\n          0,   0,   0,   0,  63]], dtype=int64)"
     },
     "metadata": {},
     "output_type": "execute_result",
     "execution_count": 128
    }
   ],
   "source": [
    "from sklearn.metrics import confusion_matrix\n",
    "confusion_matrix(start_y_valid, rf_valid_pred)\n"
   ],
   "metadata": {
    "collapsed": false,
    "pycharm": {
     "name": "#%%\n",
     "is_executing": false
    }
   }
  }
 ],
 "metadata": {
  "kernelspec": {
   "name": "python3",
   "language": "python",
   "display_name": "Python 3"
  },
  "pycharm": {
   "stem_cell": {
    "cell_type": "raw",
    "source": [],
    "metadata": {
     "collapsed": false
    }
   }
  }
 },
 "nbformat": 4,
 "nbformat_minor": 1
}